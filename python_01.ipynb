{
  "nbformat": 4,
  "nbformat_minor": 0,
  "metadata": {
    "colab": {
      "name": "e_ai01.ipynb의 사본",
      "version": "0.3.2",
      "provenance": [],
      "collapsed_sections": [],
      "include_colab_link": true
    },
    "kernelspec": {
      "display_name": "Python 3",
      "language": "python",
      "name": "python3"
    },
    "language_info": {
      "codemirror_mode": {
        "name": "ipython",
        "version": 3
      },
      "file_extension": ".py",
      "mimetype": "text/x-python",
      "name": "python",
      "nbconvert_exporter": "python",
      "pygments_lexer": "ipython3",
      "version": "3.6.7"
    }
  },
  "cells": [
    {
      "cell_type": "markdown",
      "metadata": {
        "id": "view-in-github",
        "colab_type": "text"
      },
      "source": [
        "<a href=\"https://colab.research.google.com/github/jiyeon0822/python_public/blob/master/python_01.ipynb\" target=\"_parent\"><img src=\"https://colab.research.google.com/assets/colab-badge.svg\" alt=\"Open In Colab\"/></a>"
      ]
    },
    {
      "cell_type": "markdown",
      "metadata": {
        "id": "ExeVxt5ZqpgB",
        "colab_type": "text"
      },
      "source": [
        "### E_AI01\n",
        "\n",
        "\n",
        "                                                    \n",
        "---"
      ]
    },
    {
      "cell_type": "markdown",
      "metadata": {
        "id": "NMxDEwfIqpgD",
        "colab_type": "text"
      },
      "source": [
        "## Python Basics\n",
        "\n",
        "---"
      ]
    },
    {
      "cell_type": "markdown",
      "metadata": {
        "colab_type": "text",
        "id": "HJICPcyTuXgg"
      },
      "source": [
        "## 변수\n",
        "---"
      ]
    },
    {
      "cell_type": "markdown",
      "metadata": {
        "id": "vnFa7GftqpgE",
        "colab_type": "text"
      },
      "source": [
        "#### 자료형"
      ]
    },
    {
      "cell_type": "code",
      "metadata": {
        "colab_type": "code",
        "id": "UBBj_UHpuXgh",
        "colab": {
          "base_uri": "https://localhost:8080/",
          "height": 34
        },
        "outputId": "3456c6bb-f408-43c4-e751-08409745b57e"
      },
      "source": [
        "print( type(1) )"
      ],
      "execution_count": 1,
      "outputs": [
        {
          "output_type": "stream",
          "text": [
            "<class 'int'>\n"
          ],
          "name": "stdout"
        }
      ]
    },
    {
      "cell_type": "code",
      "metadata": {
        "id": "k08s0AsWqpgH",
        "colab_type": "code",
        "colab": {}
      },
      "source": [
        "print( type(3.4) )"
      ],
      "execution_count": 0,
      "outputs": []
    },
    {
      "cell_type": "code",
      "metadata": {
        "id": "j2ZU7r2dqpgI",
        "colab_type": "code",
        "colab": {}
      },
      "source": [
        "print( type('Hello') )"
      ],
      "execution_count": 0,
      "outputs": []
    },
    {
      "cell_type": "markdown",
      "metadata": {
        "id": "pSqVZ2j7qpgK",
        "colab_type": "text"
      },
      "source": [
        "#### 자료형 변환"
      ]
    },
    {
      "cell_type": "code",
      "metadata": {
        "scrolled": true,
        "id": "6cfhm0DjqpgL",
        "colab_type": "code",
        "colab": {}
      },
      "source": [
        "int( 3.141595 )"
      ],
      "execution_count": 0,
      "outputs": []
    },
    {
      "cell_type": "code",
      "metadata": {
        "id": "eGokqLK1qpgM",
        "colab_type": "code",
        "colab": {}
      },
      "source": [
        "float( 365 ) "
      ],
      "execution_count": 0,
      "outputs": []
    },
    {
      "cell_type": "code",
      "metadata": {
        "id": "hdHF72SUqpgO",
        "colab_type": "code",
        "colab": {}
      },
      "source": [
        "str(50) "
      ],
      "execution_count": 0,
      "outputs": []
    },
    {
      "cell_type": "markdown",
      "metadata": {
        "id": "egjllVkmqpgR",
        "colab_type": "text"
      },
      "source": [
        "#### 변수"
      ]
    },
    {
      "cell_type": "code",
      "metadata": {
        "id": "7Z6yqS_oqpgR",
        "colab_type": "code",
        "colab": {}
      },
      "source": [
        "x = 10\n",
        "print(x)"
      ],
      "execution_count": 0,
      "outputs": []
    },
    {
      "cell_type": "code",
      "metadata": {
        "id": "poFVSAwcqpgT",
        "colab_type": "code",
        "colab": {}
      },
      "source": [
        "x = 100\n",
        "print(x)"
      ],
      "execution_count": 0,
      "outputs": []
    },
    {
      "cell_type": "code",
      "metadata": {
        "id": "62dRq0BjqpgV",
        "colab_type": "code",
        "colab": {}
      },
      "source": [
        "y = 3.14\n",
        "print(x * y)"
      ],
      "execution_count": 0,
      "outputs": []
    },
    {
      "cell_type": "markdown",
      "metadata": {
        "colab_type": "text",
        "id": "qm_-pXO6qpgX"
      },
      "source": [
        "## 문장\n",
        "---"
      ]
    },
    {
      "cell_type": "markdown",
      "metadata": {
        "id": "ckwAd79PqpgX",
        "colab_type": "text"
      },
      "source": [
        "#### 대입문"
      ]
    },
    {
      "cell_type": "code",
      "metadata": {
        "scrolled": true,
        "id": "kSJXTFhnqpgY",
        "colab_type": "code",
        "colab": {}
      },
      "source": [
        "x = 0.6\n",
        "x = 3.9 * x * ( 1 - x )\n",
        "print(x)"
      ],
      "execution_count": 0,
      "outputs": []
    },
    {
      "cell_type": "markdown",
      "metadata": {
        "id": "5T-Nar0KqpgZ",
        "colab_type": "text"
      },
      "source": [
        "#### 연산자"
      ]
    },
    {
      "cell_type": "code",
      "metadata": {
        "id": "owbyIpQYqpga",
        "colab_type": "code",
        "colab": {}
      },
      "source": [
        "x = 1 + 2 * 3 - 4 / 5 ** 6\n",
        "print(x)"
      ],
      "execution_count": 0,
      "outputs": []
    },
    {
      "cell_type": "markdown",
      "metadata": {
        "id": "emGPUEt3qpgb",
        "colab_type": "text"
      },
      "source": [
        "#### print()"
      ]
    },
    {
      "cell_type": "code",
      "metadata": {
        "id": "781Q82BUqpgd",
        "colab_type": "code",
        "colab": {}
      },
      "source": [
        "print(24)\n",
        "print(24, '/', 7)"
      ],
      "execution_count": 0,
      "outputs": []
    },
    {
      "cell_type": "code",
      "metadata": {
        "id": "15gC2OS4qpgf",
        "colab_type": "code",
        "colab": {}
      },
      "source": [
        "print(24, '/', 7, sep=',')"
      ],
      "execution_count": 0,
      "outputs": []
    },
    {
      "cell_type": "code",
      "metadata": {
        "id": "O7usm0L1qpgg",
        "colab_type": "code",
        "colab": {}
      },
      "source": [
        "print(24, '/', 7, sep='-')"
      ],
      "execution_count": 0,
      "outputs": []
    },
    {
      "cell_type": "code",
      "metadata": {
        "id": "WJ2srGoqqpgi",
        "colab_type": "code",
        "colab": {}
      },
      "source": [
        "print(24, '/', 7, sep='\\n')"
      ],
      "execution_count": 0,
      "outputs": []
    },
    {
      "cell_type": "code",
      "metadata": {
        "id": "eVY-dvJsqpgj",
        "colab_type": "code",
        "colab": {}
      },
      "source": [
        "print('Hi'+' '+'!')"
      ],
      "execution_count": 0,
      "outputs": []
    },
    {
      "cell_type": "markdown",
      "metadata": {
        "id": "PxvZF6l3qpgl",
        "colab_type": "text"
      },
      "source": [
        "#### input()"
      ]
    },
    {
      "cell_type": "code",
      "metadata": {
        "id": "uCMRCx4rqpgm",
        "colab_type": "code",
        "colab": {}
      },
      "source": [
        "nam = input('Who are you? ')\n",
        "print('Welcome', nam)"
      ],
      "execution_count": 0,
      "outputs": []
    },
    {
      "cell_type": "code",
      "metadata": {
        "id": "umgb5YX7qpgq",
        "colab_type": "code",
        "colab": {}
      },
      "source": [
        "age = input('Enter your age: ')\n",
        "print(type(age))"
      ],
      "execution_count": 0,
      "outputs": []
    },
    {
      "cell_type": "code",
      "metadata": {
        "id": "fUdNZHcpqpgt",
        "colab_type": "code",
        "colab": {}
      },
      "source": [
        "age = int( input('Enter your age: ') )\n",
        "print(type(age))"
      ],
      "execution_count": 0,
      "outputs": []
    },
    {
      "cell_type": "markdown",
      "metadata": {
        "id": "wHQd9xUKqpgu",
        "colab_type": "text"
      },
      "source": [
        "#### 주석"
      ]
    },
    {
      "cell_type": "code",
      "metadata": {
        "id": "9RoJjkWbqpgv",
        "colab_type": "code",
        "colab": {}
      },
      "source": [
        "# Programmed by 2018123123 홍길동\n",
        "# hongildon@yonsei.ac.kr\n",
        "\n",
        "# Get the name of the file and open it\n",
        "name = input('Enter file:')\n",
        "handle = open(name, 'r')\n",
        "\n",
        "# Count word frequency\n",
        "counts = dict()\n",
        "for line in handle:\n",
        "    words = line.split()\n",
        "    for word in words:\n",
        "        # print(word)\n",
        "        counts[word] = counts.get(word,0) + 1"
      ],
      "execution_count": 0,
      "outputs": []
    },
    {
      "cell_type": "markdown",
      "metadata": {
        "colab_type": "text",
        "id": "xcP7MzWXqpgw"
      },
      "source": [
        "## 조건문\n",
        "---"
      ]
    },
    {
      "cell_type": "markdown",
      "metadata": {
        "id": "G8gM1MBcqpgx",
        "colab_type": "text"
      },
      "source": [
        "#### 불리언"
      ]
    },
    {
      "cell_type": "code",
      "metadata": {
        "id": "8gRnH1hTqpgx",
        "colab_type": "code",
        "colab": {}
      },
      "source": [
        "hungry = True\n",
        "sleepy = False\n",
        "\n",
        "type(hungry)"
      ],
      "execution_count": 0,
      "outputs": []
    },
    {
      "cell_type": "code",
      "metadata": {
        "id": "3Bp0osK6qpgz",
        "colab_type": "code",
        "colab": {}
      },
      "source": [
        "not hungry\n"
      ],
      "execution_count": 0,
      "outputs": []
    },
    {
      "cell_type": "code",
      "metadata": {
        "id": "pV623qZ-qpg0",
        "colab_type": "code",
        "colab": {}
      },
      "source": [
        "hungry and sleepy\n"
      ],
      "execution_count": 0,
      "outputs": []
    },
    {
      "cell_type": "code",
      "metadata": {
        "id": "N8HqWh2Mqpg2",
        "colab_type": "code",
        "colab": {}
      },
      "source": [
        "hungry or sleepy\n"
      ],
      "execution_count": 0,
      "outputs": []
    },
    {
      "cell_type": "code",
      "metadata": {
        "id": "dHwDFX9jqpg3",
        "colab_type": "code",
        "colab": {}
      },
      "source": [
        "5 > 10"
      ],
      "execution_count": 0,
      "outputs": []
    },
    {
      "cell_type": "code",
      "metadata": {
        "id": "2khBInlfqpg5",
        "colab_type": "code",
        "colab": {}
      },
      "source": [
        "'abc' == 'ABC'"
      ],
      "execution_count": 0,
      "outputs": []
    },
    {
      "cell_type": "markdown",
      "metadata": {
        "id": "WP8m4Qruqpg7",
        "colab_type": "text"
      },
      "source": [
        "#### if / else"
      ]
    },
    {
      "cell_type": "code",
      "metadata": {
        "id": "OSGzPdoGqpg7",
        "colab_type": "code",
        "colab": {}
      },
      "source": [
        "hungry = True\n",
        "if hungry:\n",
        "    print(\"I'm hungry\")"
      ],
      "execution_count": 0,
      "outputs": []
    },
    {
      "cell_type": "code",
      "metadata": {
        "id": "tAYE8ti0qpg9",
        "colab_type": "code",
        "colab": {}
      },
      "source": [
        "hungry = False\n",
        "if hungry:\n",
        "    print(\"I'm hungry\")\n",
        "else:\n",
        "    print(\"I'm not hungry\")"
      ],
      "execution_count": 0,
      "outputs": []
    },
    {
      "cell_type": "markdown",
      "metadata": {
        "id": "llIX3I_Yqpg_",
        "colab_type": "text"
      },
      "source": [
        "#### elif"
      ]
    },
    {
      "cell_type": "code",
      "metadata": {
        "id": "mpBkP2f4qphA",
        "colab_type": "code",
        "colab": {}
      },
      "source": [
        "score = 75\n",
        "grade = None\n",
        "\n",
        "if score >= 90:\n",
        "    grade = 'A'\n",
        "elif score >= 80:\n",
        "    grade = 'B'\n",
        "elif score >= 70:\n",
        "    grade = 'C'\n",
        "else:\n",
        "    grade = 'D'\n",
        "    \n",
        "print('Score:', score, 'Grade:', grade)"
      ],
      "execution_count": 0,
      "outputs": []
    },
    {
      "cell_type": "markdown",
      "metadata": {
        "colab_type": "text",
        "id": "y9leolFGqphB"
      },
      "source": [
        "## 반복문\n",
        "---"
      ]
    },
    {
      "cell_type": "markdown",
      "metadata": {
        "id": "rXHOYlYEqphB",
        "colab_type": "text"
      },
      "source": [
        "#### for"
      ]
    },
    {
      "cell_type": "code",
      "metadata": {
        "id": "YCBO89bHqphC",
        "colab_type": "code",
        "colab": {}
      },
      "source": [
        "for i in [1, 2, 3]:\n",
        "    print(i)"
      ],
      "execution_count": 0,
      "outputs": []
    },
    {
      "cell_type": "code",
      "metadata": {
        "id": "tePRamuvqphD",
        "colab_type": "code",
        "colab": {}
      },
      "source": [
        "for i in range(5):\n",
        "    print(i)"
      ],
      "execution_count": 0,
      "outputs": []
    },
    {
      "cell_type": "markdown",
      "metadata": {
        "id": "9nKDR-xGqphF",
        "colab_type": "text"
      },
      "source": [
        "#### while"
      ]
    },
    {
      "cell_type": "code",
      "metadata": {
        "id": "odteLGknqphG",
        "colab_type": "code",
        "colab": {}
      },
      "source": [
        "while 1 == 2:\n",
        "    print('짠!')\n",
        "    "
      ],
      "execution_count": 0,
      "outputs": []
    },
    {
      "cell_type": "code",
      "metadata": {
        "id": "gqKQiIVAqphH",
        "colab_type": "code",
        "colab": {}
      },
      "source": [
        "while 1 == 1:\n",
        "    print('그만!')\n",
        "    "
      ],
      "execution_count": 0,
      "outputs": []
    },
    {
      "cell_type": "code",
      "metadata": {
        "id": "HocOWDsKqphI",
        "colab_type": "code",
        "colab": {}
      },
      "source": [
        "while True:\n",
        "    s = input('Type > ')\n",
        "\n",
        "    if s == 'done':\n",
        "        break\n",
        "\n",
        "    print('You typed', s)"
      ],
      "execution_count": 0,
      "outputs": []
    },
    {
      "cell_type": "markdown",
      "metadata": {
        "colab_type": "text",
        "id": "9wPbnKPkqphK"
      },
      "source": [
        "## 함수\n",
        "---"
      ]
    },
    {
      "cell_type": "markdown",
      "metadata": {
        "id": "tZUbmDaoqphM",
        "colab_type": "text"
      },
      "source": [
        "#### function"
      ]
    },
    {
      "cell_type": "code",
      "metadata": {
        "id": "VO99R5vFqphM",
        "colab_type": "code",
        "colab": {}
      },
      "source": [
        "def addtwo(a, b):\n",
        "    return a + b\n",
        "\n",
        "addtwo(3, 5)"
      ],
      "execution_count": 0,
      "outputs": []
    },
    {
      "cell_type": "code",
      "metadata": {
        "id": "b5lLpnfJqphO",
        "colab_type": "code",
        "colab": {}
      },
      "source": [
        "def sayhi(name):\n",
        "    print('Hi, ' + name + '!')\n",
        "\n",
        "sayhi('Kim')"
      ],
      "execution_count": 0,
      "outputs": []
    },
    {
      "cell_type": "markdown",
      "metadata": {
        "colab_type": "text",
        "id": "NG0ZiJjHqphQ"
      },
      "source": [
        "## 시퀀스 (list, tuple, str)\n",
        "---"
      ]
    },
    {
      "cell_type": "markdown",
      "metadata": {
        "id": "EZ59x_c8qphQ",
        "colab_type": "text"
      },
      "source": [
        "#### Lists ( list )"
      ]
    },
    {
      "cell_type": "code",
      "metadata": {
        "id": "IiNTcCj6qphR",
        "colab_type": "code",
        "colab": {}
      },
      "source": [
        "x = []\n",
        "print(type(x))"
      ],
      "execution_count": 0,
      "outputs": []
    },
    {
      "cell_type": "code",
      "metadata": {
        "id": "1xRIUWJZqphW",
        "colab_type": "code",
        "colab": {}
      },
      "source": [
        "x = [3, 4, 5]\n",
        "print(x)"
      ],
      "execution_count": 0,
      "outputs": []
    },
    {
      "cell_type": "code",
      "metadata": {
        "id": "kHHNWL8EqphX",
        "colab_type": "code",
        "colab": {}
      },
      "source": [
        "x = list(range(5))\n",
        "print(x)"
      ],
      "execution_count": 0,
      "outputs": []
    },
    {
      "cell_type": "code",
      "metadata": {
        "id": "x9oLfOiJqphZ",
        "colab_type": "code",
        "colab": {}
      },
      "source": [
        "x = [3, 5, 7, 9]\n",
        "\n",
        "x.append(10)\n",
        "x.append(15)\n",
        "print(x)"
      ],
      "execution_count": 0,
      "outputs": []
    },
    {
      "cell_type": "code",
      "metadata": {
        "id": "Dw8MPjPLqpha",
        "colab_type": "code",
        "colab": {}
      },
      "source": [
        "x = [3, 5, 7, 9]\n",
        "x.pop()\n",
        "\n",
        "print(x)\n",
        "print(x.pop())\n",
        "print(x)"
      ],
      "execution_count": 0,
      "outputs": []
    },
    {
      "cell_type": "code",
      "metadata": {
        "id": "VE7ZpcM8qphe",
        "colab_type": "code",
        "colab": {}
      },
      "source": [
        "x = [3, 5, 7, 9]\n",
        "print(x.pop(2))\n",
        "print(x)"
      ],
      "execution_count": 0,
      "outputs": []
    },
    {
      "cell_type": "markdown",
      "metadata": {
        "id": "zZY45sYzqphf",
        "colab_type": "text"
      },
      "source": [
        "#### Tuple ( tuple )"
      ]
    },
    {
      "cell_type": "code",
      "metadata": {
        "id": "w9ImlcR0qphg",
        "colab_type": "code",
        "colab": {}
      },
      "source": [
        "x = (2, 5, 3)\n",
        "\n",
        "del( x[1] ) # error!\n",
        "x[1] = 3    # error!\n"
      ],
      "execution_count": 0,
      "outputs": []
    },
    {
      "cell_type": "markdown",
      "metadata": {
        "id": "DQk7Je_rqphh",
        "colab_type": "text"
      },
      "source": [
        "#### Tuple Packing / Unpacking"
      ]
    },
    {
      "cell_type": "code",
      "metadata": {
        "id": "IniXNsQdqphi",
        "colab_type": "code",
        "colab": {}
      },
      "source": [
        "t = 12345, 54321, 'hello!'\n",
        "print(t)"
      ],
      "execution_count": 0,
      "outputs": []
    },
    {
      "cell_type": "code",
      "metadata": {
        "id": "kGf44bGSqphj",
        "colab_type": "code",
        "colab": {}
      },
      "source": [
        "(x, y, z) = (12345, 54321, 'hello!')\n",
        "a, b, c = 32, 44, 99\n",
        "q, p = [100, 200]\n",
        "\n",
        "print(z)\n",
        "print(q)\n",
        "print(c)"
      ],
      "execution_count": 0,
      "outputs": []
    },
    {
      "cell_type": "markdown",
      "metadata": {
        "id": "RCXio3KOqphk",
        "colab_type": "text"
      },
      "source": [
        "#### Strings ( str )"
      ]
    },
    {
      "cell_type": "code",
      "metadata": {
        "id": "g6MdbSGsqphk",
        "colab_type": "code",
        "colab": {}
      },
      "source": [
        "s = 'Python string'\n",
        "\n",
        "print(type(s))"
      ],
      "execution_count": 0,
      "outputs": []
    },
    {
      "cell_type": "code",
      "metadata": {
        "id": "78ibDnSAqphl",
        "colab_type": "code",
        "colab": {}
      },
      "source": [
        "s = 'Python string'\n",
        "\n",
        "s = \"Python string\"\n",
        "\n",
        "s = '''Python \n",
        "       string'''\n",
        "\n",
        "s = \"\"\"Python \n",
        "       string\"\"\""
      ],
      "execution_count": 0,
      "outputs": []
    },
    {
      "cell_type": "code",
      "metadata": {
        "id": "Oc1J1_1Kqphm",
        "colab_type": "code",
        "colab": {}
      },
      "source": [
        "fruit = \"banana\"\n",
        "bakedGood = \" nut bread\"\n",
        "print(fruit + bakedGood)"
      ],
      "execution_count": 0,
      "outputs": []
    },
    {
      "cell_type": "code",
      "metadata": {
        "id": "I5vnTU1qqpho",
        "colab_type": "code",
        "colab": {}
      },
      "source": [
        "text = ''\n",
        "names = ['King', 'are', 'you', 'glad', 'you', 'are', 'King']\n",
        "\n",
        "for name in names:\n",
        "    text = text + ' ' + name\n",
        "\n",
        "print(text)"
      ],
      "execution_count": 0,
      "outputs": []
    },
    {
      "cell_type": "markdown",
      "metadata": {
        "id": "ohnahx1Vqphr",
        "colab_type": "text"
      },
      "source": [
        "#### Testing Strings"
      ]
    },
    {
      "cell_type": "code",
      "metadata": {
        "id": "IxUb91lvqphs",
        "colab_type": "code",
        "colab": {}
      },
      "source": [
        "s = \"welcome to python\"\n",
        "s.isalnum()\n"
      ],
      "execution_count": 0,
      "outputs": []
    },
    {
      "cell_type": "code",
      "metadata": {
        "id": "u_xS-HK2qpht",
        "colab_type": "code",
        "colab": {}
      },
      "source": [
        "\"Welcome\".isalpha()\n"
      ],
      "execution_count": 0,
      "outputs": []
    },
    {
      "cell_type": "code",
      "metadata": {
        "id": "ifosywgHqphu",
        "colab_type": "code",
        "colab": {}
      },
      "source": [
        "\"2012\".isdigit()\n"
      ],
      "execution_count": 0,
      "outputs": []
    },
    {
      "cell_type": "code",
      "metadata": {
        "id": "fXb7xWXdqphw",
        "colab_type": "code",
        "colab": {}
      },
      "source": [
        "\"first Number\".isidentifier()\n"
      ],
      "execution_count": 0,
      "outputs": []
    },
    {
      "cell_type": "code",
      "metadata": {
        "id": "lzWeWhuaqphy",
        "colab_type": "code",
        "colab": {}
      },
      "source": [
        "s.islower()\n"
      ],
      "execution_count": 0,
      "outputs": []
    },
    {
      "cell_type": "code",
      "metadata": {
        "id": "2lGexPTCqphz",
        "colab_type": "code",
        "colab": {}
      },
      "source": [
        "\"WELCOME\".isupper()\n"
      ],
      "execution_count": 0,
      "outputs": []
    },
    {
      "cell_type": "code",
      "metadata": {
        "id": "-h9dTVerqph0",
        "colab_type": "code",
        "colab": {}
      },
      "source": [
        "\"  \\t\".isspace()"
      ],
      "execution_count": 0,
      "outputs": []
    },
    {
      "cell_type": "markdown",
      "metadata": {
        "id": "jOpQjMjeqph1",
        "colab_type": "text"
      },
      "source": [
        "#### Searching Strings"
      ]
    },
    {
      "cell_type": "code",
      "metadata": {
        "id": "fwPEmVSCqph2",
        "colab_type": "code",
        "colab": {}
      },
      "source": [
        "s = \"welcome to python\"\n",
        "s.endswith(\"thon\")\n"
      ],
      "execution_count": 0,
      "outputs": []
    },
    {
      "cell_type": "code",
      "metadata": {
        "id": "aPmW9HdCqph3",
        "colab_type": "code",
        "colab": {}
      },
      "source": [
        "s.startswith(\"good\")\n"
      ],
      "execution_count": 0,
      "outputs": []
    },
    {
      "cell_type": "code",
      "metadata": {
        "id": "XY85mz6vqph5",
        "colab_type": "code",
        "colab": {}
      },
      "source": [
        "s.find(\"come\")\n"
      ],
      "execution_count": 0,
      "outputs": []
    },
    {
      "cell_type": "code",
      "metadata": {
        "id": "bO7pFt9Jqph8",
        "colab_type": "code",
        "colab": {}
      },
      "source": [
        "s.find(\"become\")\n"
      ],
      "execution_count": 0,
      "outputs": []
    },
    {
      "cell_type": "code",
      "metadata": {
        "id": "g6sB_80Kqph9",
        "colab_type": "code",
        "colab": {}
      },
      "source": [
        "s.rfind(\"o\")\n"
      ],
      "execution_count": 0,
      "outputs": []
    },
    {
      "cell_type": "code",
      "metadata": {
        "id": "QTg1AFw1qpiB",
        "colab_type": "code",
        "colab": {}
      },
      "source": [
        "s.count(\"o\")\n"
      ],
      "execution_count": 0,
      "outputs": []
    },
    {
      "cell_type": "markdown",
      "metadata": {
        "id": "XIXDpbPHqpiC",
        "colab_type": "text"
      },
      "source": [
        "#### Converting Strings"
      ]
    },
    {
      "cell_type": "code",
      "metadata": {
        "id": "hRk-Wn9iqpiC",
        "colab_type": "code",
        "colab": {}
      },
      "source": [
        "s = \"string in python\"\n",
        "s1 = s.capitalize()\n",
        "s1\n"
      ],
      "execution_count": 0,
      "outputs": []
    },
    {
      "cell_type": "code",
      "metadata": {
        "id": "-LER6GyuqpiE",
        "colab_type": "code",
        "colab": {}
      },
      "source": [
        "s2 = s.title()\n",
        "s2\n"
      ],
      "execution_count": 0,
      "outputs": []
    },
    {
      "cell_type": "code",
      "metadata": {
        "id": "IeF8HW2JqpiE",
        "colab_type": "code",
        "colab": {}
      },
      "source": [
        "s = \"This Is Test\"\n",
        "s3 = s.lower()\n",
        "s3\n"
      ],
      "execution_count": 0,
      "outputs": []
    },
    {
      "cell_type": "code",
      "metadata": {
        "id": "isjdRsWTqpiG",
        "colab_type": "code",
        "colab": {}
      },
      "source": [
        "s4 = s.upper()\n",
        "s4\n"
      ],
      "execution_count": 0,
      "outputs": []
    },
    {
      "cell_type": "code",
      "metadata": {
        "id": "_NDekrkRqpiI",
        "colab_type": "code",
        "colab": {}
      },
      "source": [
        "s6 = s.replace(\"Is\", \"Was\")\n",
        "s6"
      ],
      "execution_count": 0,
      "outputs": []
    },
    {
      "cell_type": "markdown",
      "metadata": {
        "id": "__FLRWpRqpiJ",
        "colab_type": "text"
      },
      "source": [
        "#### Stripping Strings"
      ]
    },
    {
      "cell_type": "code",
      "metadata": {
        "id": "QY08RaRVqpiJ",
        "colab_type": "code",
        "colab": {}
      },
      "source": [
        "greet = '   Hello Bob  '\n",
        "greet.lstrip()\n"
      ],
      "execution_count": 0,
      "outputs": []
    },
    {
      "cell_type": "code",
      "metadata": {
        "id": "SHi6q1tvqpiK",
        "colab_type": "code",
        "colab": {}
      },
      "source": [
        "greet.rstrip()\n"
      ],
      "execution_count": 0,
      "outputs": []
    },
    {
      "cell_type": "code",
      "metadata": {
        "id": "w2Qc8bcHqpiL",
        "colab_type": "code",
        "colab": {}
      },
      "source": [
        "greet.strip()\n"
      ],
      "execution_count": 0,
      "outputs": []
    },
    {
      "cell_type": "markdown",
      "metadata": {
        "id": "VQpbZWiUqpiN",
        "colab_type": "text"
      },
      "source": [
        "#### format()"
      ]
    },
    {
      "cell_type": "code",
      "metadata": {
        "id": "13OYtJvCqpiN",
        "colab_type": "code",
        "colab": {}
      },
      "source": [
        "person = input('Enter your name: ')\n",
        "print( 'Hello {}!'.format(person) )"
      ],
      "execution_count": 0,
      "outputs": []
    },
    {
      "cell_type": "code",
      "metadata": {
        "id": "6WvQjR5_qpiO",
        "colab_type": "code",
        "colab": {}
      },
      "source": [
        "v = 2.34567\n",
        "print('{:.1f} {:.2f} {:.7f}'.format(v, v, v))"
      ],
      "execution_count": 0,
      "outputs": []
    },
    {
      "cell_type": "code",
      "metadata": {
        "id": "OUDQviRQqpiP",
        "colab_type": "code",
        "colab": {}
      },
      "source": [
        "v = 2.34567\n",
        "print('{:8.1f} {:8.2f} {:8.7f}'.format(v))"
      ],
      "execution_count": 0,
      "outputs": []
    },
    {
      "cell_type": "code",
      "metadata": {
        "id": "zdKs_178qpiQ",
        "colab_type": "code",
        "colab": {}
      },
      "source": [
        "oPrice = 1000\n",
        "discount = 5\n",
        "nPrice = (1 - discount/100) * oPrice\n",
        "\n",
        "print('${:.2f} discounted by {}% is ${:.2f}.'.format(oPrice, discount, nPrice) )"
      ],
      "execution_count": 0,
      "outputs": []
    },
    {
      "cell_type": "markdown",
      "metadata": {
        "id": "LTSTtgJEqpiR",
        "colab_type": "text"
      },
      "source": [
        "#### split()"
      ]
    },
    {
      "cell_type": "code",
      "metadata": {
        "id": "Q9VsmZ00qpiS",
        "colab_type": "code",
        "colab": {}
      },
      "source": [
        "text1 = 'everybody has a plan'\n",
        "print( text1.split() )\n",
        "\n",
        "text2 = 'everybody, has, a, plan'  \n",
        "print( text2.split(', ') ) "
      ],
      "execution_count": 0,
      "outputs": []
    },
    {
      "cell_type": "code",
      "metadata": {
        "id": "vCLS5waEqpiT",
        "colab_type": "code",
        "colab": {}
      },
      "source": [
        "text1 = 'dog;cat,monkey;bird,fish'\n",
        "print( text1.split(';') )\n",
        "\n",
        "text2 = 'hello      world  !!!'\n",
        "print( text2.split() )"
      ],
      "execution_count": 0,
      "outputs": []
    },
    {
      "cell_type": "markdown",
      "metadata": {
        "id": "H93HDxMwqpiU",
        "colab_type": "text"
      },
      "source": [
        "#### Indexing"
      ]
    },
    {
      "cell_type": "code",
      "metadata": {
        "id": "1dySpkioqpiU",
        "colab_type": "code",
        "colab": {}
      },
      "source": [
        "friends = ['Kim', 'Lee', 'Park']\n",
        "print(friends[2])\n"
      ],
      "execution_count": 0,
      "outputs": []
    },
    {
      "cell_type": "code",
      "metadata": {
        "id": "olw85yqYqpiW",
        "colab_type": "code",
        "colab": {}
      },
      "source": [
        "nums = ( 10, 20, 30, 40 )\n",
        "print(nums[3])\n"
      ],
      "execution_count": 0,
      "outputs": []
    },
    {
      "cell_type": "code",
      "metadata": {
        "id": "R4qkg6T3qpiY",
        "colab_type": "code",
        "colab": {}
      },
      "source": [
        "message = 'You are my friend'\n",
        "print(message[5])\n"
      ],
      "execution_count": 0,
      "outputs": []
    },
    {
      "cell_type": "markdown",
      "metadata": {
        "id": "18fsP6xBqpiZ",
        "colab_type": "text"
      },
      "source": [
        "#### Indexing"
      ]
    },
    {
      "cell_type": "code",
      "metadata": {
        "id": "xZ79aRRsqpiZ",
        "colab_type": "code",
        "colab": {}
      },
      "source": [
        "x = 'computer'\n",
        "x[1:4]   # Items 1 to 3\n",
        "x[1:6:2] # Items 1, 3, 5\n",
        "x[3:]    # Items 3 to end\n",
        "x[:5]    # Items 0 to 4\n",
        "x[-1]    # Last item\n",
        "x[-3:]   # Last 3 items\n",
        "x[:-2]   # All except last 2 items"
      ],
      "execution_count": 0,
      "outputs": []
    },
    {
      "cell_type": "markdown",
      "metadata": {
        "id": "eENuE91vqpib",
        "colab_type": "text"
      },
      "source": [
        "#### Concatenating"
      ]
    },
    {
      "cell_type": "code",
      "metadata": {
        "id": "CYNnSrB0qpid",
        "colab_type": "code",
        "colab": {}
      },
      "source": [
        "name = 'Hong' + 'Gil' + 'Dong'\n",
        "print(name)\n"
      ],
      "execution_count": 0,
      "outputs": []
    },
    {
      "cell_type": "code",
      "metadata": {
        "id": "ZVBKjiJPqpie",
        "colab_type": "code",
        "colab": {}
      },
      "source": [
        "items1 = [1,3,5,7] + [2,4,6,8]\n",
        "print(items1)\n"
      ],
      "execution_count": 0,
      "outputs": []
    },
    {
      "cell_type": "code",
      "metadata": {
        "id": "X2NpT__uqpih",
        "colab_type": "code",
        "colab": {}
      },
      "source": [
        "items2 = ['a', 50, 'abc'] + [0.2, 5, 'e']\n",
        "print(items2)"
      ],
      "execution_count": 0,
      "outputs": []
    },
    {
      "cell_type": "markdown",
      "metadata": {
        "id": "eNqhKcRjqpii",
        "colab_type": "text"
      },
      "source": [
        "#### len()"
      ]
    },
    {
      "cell_type": "code",
      "metadata": {
        "id": "-lDd4exeqpij",
        "colab_type": "code",
        "colab": {}
      },
      "source": [
        "x = 'bug'\n",
        "print(len(x))\n"
      ],
      "execution_count": 0,
      "outputs": []
    },
    {
      "cell_type": "code",
      "metadata": {
        "id": "Xww9745Oqpil",
        "colab_type": "code",
        "colab": {}
      },
      "source": [
        "x = [4, 6, 2, 4]\n",
        "print(len(x))"
      ],
      "execution_count": 0,
      "outputs": []
    },
    {
      "cell_type": "markdown",
      "metadata": {
        "id": "qgzICgXuqpim",
        "colab_type": "text"
      },
      "source": [
        "#### min()"
      ]
    },
    {
      "cell_type": "code",
      "metadata": {
        "id": "PrQCWAtdqpim",
        "colab_type": "code",
        "colab": {}
      },
      "source": [
        "x = 'bug'\n",
        "print(min(x))\n"
      ],
      "execution_count": 0,
      "outputs": []
    },
    {
      "cell_type": "code",
      "metadata": {
        "id": "qZr9OoT4qpio",
        "colab_type": "code",
        "colab": {}
      },
      "source": [
        "x = [4, 6, 2, 4]\n",
        "print(min(x))"
      ],
      "execution_count": 0,
      "outputs": []
    },
    {
      "cell_type": "code",
      "metadata": {
        "id": "kpuaYIdTqpio",
        "colab_type": "code",
        "colab": {}
      },
      "source": [
        "x = [4, 6, 2, [10, 20]]\n",
        "y = [3, 'a', 20]\n",
        "print(min(x))\n",
        "print(min(y))"
      ],
      "execution_count": 0,
      "outputs": []
    },
    {
      "cell_type": "markdown",
      "metadata": {
        "id": "BHODGadfqpip",
        "colab_type": "text"
      },
      "source": [
        "#### max()"
      ]
    },
    {
      "cell_type": "code",
      "metadata": {
        "id": "P-P4mBdKqpip",
        "colab_type": "code",
        "colab": {}
      },
      "source": [
        "x = 'bug'\n",
        "print(max(x))\n"
      ],
      "execution_count": 0,
      "outputs": []
    },
    {
      "cell_type": "code",
      "metadata": {
        "id": "fU548T37qpiq",
        "colab_type": "code",
        "colab": {}
      },
      "source": [
        "x = [4, 6, 2, 4]\n",
        "print(max(x))"
      ],
      "execution_count": 0,
      "outputs": []
    },
    {
      "cell_type": "code",
      "metadata": {
        "id": "mWo38qqZqpiq",
        "colab_type": "code",
        "colab": {}
      },
      "source": [
        "x = ['bac', 'Abc', 'Cdc']\n",
        "print(max(x))"
      ],
      "execution_count": 0,
      "outputs": []
    },
    {
      "cell_type": "markdown",
      "metadata": {
        "id": "FcAeuqdDqpir",
        "colab_type": "text"
      },
      "source": [
        "#### sum()"
      ]
    },
    {
      "cell_type": "code",
      "metadata": {
        "id": "qaDm0kbmqpir",
        "colab_type": "code",
        "colab": {}
      },
      "source": [
        "x = [5, 7, 'woo']\n",
        "print(sum(x))  # error!\n"
      ],
      "execution_count": 0,
      "outputs": []
    },
    {
      "cell_type": "code",
      "metadata": {
        "id": "cJmabiMkqpis",
        "colab_type": "code",
        "colab": {}
      },
      "source": [
        "x = [3, 2, 5, 6]\n",
        "print(sum(x))\n",
        "print(sum(x[-3:])"
      ],
      "execution_count": 0,
      "outputs": []
    },
    {
      "cell_type": "code",
      "metadata": {
        "id": "uASjRpTBqpit",
        "colab_type": "code",
        "colab": {}
      },
      "source": [
        "x = ['bac', 'Abc', 'Cdc']\n",
        "print(sum(x))"
      ],
      "execution_count": 0,
      "outputs": []
    },
    {
      "cell_type": "markdown",
      "metadata": {
        "colab_type": "text",
        "id": "XvyofDQ5qpiv"
      },
      "source": [
        "## 딕셔너리\n",
        "---"
      ]
    },
    {
      "cell_type": "markdown",
      "metadata": {
        "id": "Kapri6Luqpiv",
        "colab_type": "text"
      },
      "source": [
        "#### dict"
      ]
    },
    {
      "cell_type": "code",
      "metadata": {
        "id": "_Xa6nNn7qpiv",
        "colab_type": "code",
        "colab": {}
      },
      "source": [
        "d = {}\n",
        "print( type(d) )"
      ],
      "execution_count": 0,
      "outputs": []
    },
    {
      "cell_type": "code",
      "metadata": {
        "id": "KhpzFJ5fqpiw",
        "colab_type": "code",
        "colab": {}
      },
      "source": [
        "d = {'pork': 25.3, 'beef': 33.8, 'chicken':22.7}\n",
        "d"
      ],
      "execution_count": 0,
      "outputs": []
    },
    {
      "cell_type": "code",
      "metadata": {
        "id": "DEc6mMo5qpix",
        "colab_type": "code",
        "colab": {}
      },
      "source": [
        "d['candy'] = d['candy'] + 2\n",
        "print(d)"
      ],
      "execution_count": 0,
      "outputs": []
    },
    {
      "cell_type": "code",
      "metadata": {
        "id": "towyChEUqpix",
        "colab_type": "code",
        "colab": {}
      },
      "source": [
        "d['tissues'] = 10\n",
        "print(d)"
      ],
      "execution_count": 0,
      "outputs": []
    },
    {
      "cell_type": "code",
      "metadata": {
        "id": "KkitUFy7qpiy",
        "colab_type": "code",
        "colab": {}
      },
      "source": [
        "kim = dict()\n",
        "kim['age'] = 20\n",
        "kim['weight'] = 80\n",
        "print(kim)\n",
        "kim['school'] = 'Yonsei'\n",
        "print(kim)"
      ],
      "execution_count": 0,
      "outputs": []
    },
    {
      "cell_type": "markdown",
      "metadata": {
        "colab_type": "text",
        "id": "WtJiBUAlqpiy"
      },
      "source": [
        "## 클래스\n",
        "---"
      ]
    },
    {
      "cell_type": "markdown",
      "metadata": {
        "id": "iLUbBq4cqpiz",
        "colab_type": "text"
      },
      "source": [
        "#### class"
      ]
    },
    {
      "cell_type": "code",
      "metadata": {
        "id": "O25C7thoqpiz",
        "colab_type": "code",
        "colab": {}
      },
      "source": [
        "class Student:\n",
        "    def __init__(self, name, age, money ):\n",
        "        self.name = name\n",
        "        self.age = age\n",
        "        self.money = money\n",
        "\n",
        "    def eat(self, price):\n",
        "        self.money -= price\n",
        "\n",
        "    def greet(self):\n",
        "        print(\"Hi, my name is {} and I'm {} years old.\".format(self.name, self.age))\n",
        "\n",
        "me = Student('Kim', 21, 10000)\n",
        "print(me.money)\n",
        "me.greet()\n",
        "me.eat(3000)\n",
        "print(me.money)\n"
      ],
      "execution_count": 0,
      "outputs": []
    },
    {
      "cell_type": "markdown",
      "metadata": {
        "id": "6E2UC1UUqpi0",
        "colab_type": "text"
      },
      "source": [
        "#### [Problem] 가진 돈을 출력하는 show_money() 메서드를 추가해보세요."
      ]
    },
    {
      "cell_type": "code",
      "metadata": {
        "id": "n-uPD9VDqpi0",
        "colab_type": "code",
        "colab": {}
      },
      "source": [
        "class Student:\n",
        "    def __init__(self, name, age, money ):\n",
        "        self.name = name\n",
        "        self.age = age\n",
        "        self.money = money\n",
        "\n",
        "    def eat(self, price):\n",
        "        self.money -= price\n",
        "\n",
        "    def greet(self):\n",
        "        print(\"Hi, my name is {} and I'm {} years old.\".format(self.name, self.age))\n",
        "        \n",
        "\n",
        "me = Student('Kim', 21, 10000)\n",
        "me.greet()\n",
        "me.eat(3000)\n",
        "\n",
        "me.show_money()\n"
      ],
      "execution_count": 0,
      "outputs": []
    }
  ]
}